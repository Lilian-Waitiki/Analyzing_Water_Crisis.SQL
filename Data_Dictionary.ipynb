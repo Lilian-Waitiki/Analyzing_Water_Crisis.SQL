<br>The tables used in this analysis are:
<br>1. The `employee` table that contains the following columns:
<br>`assigned_employee_id`: Unique ID assigned to each employee.
<br>`employee_name`: Name of the employee. 
<br>`phone_number`: Contact number of the employee. 
<br>`email`: Email address of the employee. 
<br>`address`: Residential address of the employee.
<br>`town_name`: Name of the town where the employee resides. 
<br>`province_name`:Name of the province where the employee resides.
<br>`position`: Position or job title of the employee

<br>2. The `visits` table that contains the following columns;
<br>`record_id` Unique ID assigned to each visit

<br>3. The `location` table that contains the following columns;
<br>`location_id`: Unique ID assigned to each location
<br>`address`: Address of the location.
<br>`province_name`:Name of the province where the location is situated.
<br>`town_name`: Name of the town where the location is situated

<br>4. The `water_source` table that contains the following columns;
